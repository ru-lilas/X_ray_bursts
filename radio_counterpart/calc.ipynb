{
 "cells": [
  {
   "cell_type": "code",
   "execution_count": 21,
   "metadata": {},
   "outputs": [],
   "source": [
    "# import os\n",
    "# os.chdir(os.path.dirname(os.path.abspath(__file__)))\n",
    "import pandas as pd\n",
    "import matplotlib.pyplot as plt\n",
    "import matplotlib.ticker as ticker\n",
    "from astropy import units as u\n",
    "from astropy import constants as const\n",
    "import numpy as np\n",
    "PI = np.pi\n",
    "c = const.c.cgs\n",
    "M = const.M_sun.cgs\n",
    "e = const.e.esu\n",
    "m_e = const.m_e.cgs\n",
    "energy_density = u.def_unit('energy_density',u.erg / (u.cm)**3)\n",
    "# print(e)"
   ]
  },
  {
   "cell_type": "code",
   "execution_count": null,
   "metadata": {},
   "outputs": [
    {
     "name": "stdout",
     "output_type": "stream",
     "text": [
      "v_sh = 8.99377e+09 cm / s\n",
      "t_rise = 180 s\n",
      "L_Edd = 1e+38 erg / s\n",
      "Mdot_Edd = 1.11265e+17 g / s\n"
     ]
    }
   ],
   "source": [
    "v_sh = 0.3*c\n",
    "t_rise = 3*60*u.s\n",
    "M_x = 1.0 * M\n",
    "e_Edd = 0.1\n",
    "e_B = 0.01\n",
    "zeta_e = 0.4 # 無衝突加熱における, 熱的陽子の, 熱的電子へのエネルギー供給率\n",
    "t_rec = 200 * 60 * u.s\n",
    "tau = 10 * 60 * u.s \n",
    "\n",
    "L_Edd = 10**38 * M_x  * u.erg / (M*u.s)\n",
    "Md_Edd = (L_Edd*0.1*M_x / (e_Edd*M*c**2)).to(u.g/u.s)\n",
    "\n",
    "print(f'v_sh = {v_sh:3g}')\n",
    "print(f't_rise = {t_rise:3g}')\n",
    "print(f'L_Edd = {L_Edd:3g}')\n",
    "print(f'Mdot_Edd = {Md_Edd:3g}')"
   ]
  },
  {
   "cell_type": "code",
   "execution_count": 44,
   "metadata": {},
   "outputs": [
    {
     "name": "stdout",
     "output_type": "stream",
     "text": [
      "0.108215\n",
      "1.33518e+21 g\n",
      "76.3663 g / (cm s2)\n",
      "8.73878 P(1/2) / s(1/2)\n",
      "1.748389615056e+17 s2 cm\n"
     ]
    }
   ],
   "source": [
    "r_sh = v_sh * t_rise\n",
    "M_ej = Md_Edd * t_rec\n",
    "B2 = e_B * Md_Edd * t_rec / (v_sh * t_rise**2 * tau)\n",
    "# B2 = M_ej * v_sh / (r_sh**2 * tau)\n",
    "B = np.sqrt(B2.cgs)\n",
    "print(f'{(r_sh/const.au).cgs:3g}\\n{M_ej:3g}\\n{B2:3g}')\n",
    "print(f'{B:3g}')\n",
    "print(v_sh * t_rise**2 * tau)\n",
    "# print(f'{(e*B).cgs}')\n",
    "# print(Md_Edd * t_rec)\n",
    "# print(np.sqrt(7636))"
   ]
  },
  {
   "cell_type": "code",
   "execution_count": 45,
   "metadata": {},
   "outputs": [
    {
     "name": "stdout",
     "output_type": "stream",
     "text": [
      "7.5129e-18 g / cm3\n"
     ]
    }
   ],
   "source": [
    "rho_amb = M_ej / (4.0*PI*r_sh**2 * v_sh * tau )\n",
    "print(f'{rho_amb:3g}')"
   ]
  },
  {
   "cell_type": "code",
   "execution_count": 46,
   "metadata": {},
   "outputs": [
    {
     "name": "stdout",
     "output_type": "stream",
     "text": [
      "6.595737428098652e+46\n"
     ]
    }
   ],
   "source": [
    "print((M_ej * v_sh**2 / ( 2*const.m_e*c**2)).cgs)"
   ]
  },
  {
   "cell_type": "markdown",
   "metadata": {},
   "source": [
    "# シンクロトロン放射の計算\n",
    "振動数を計算する."
   ]
  },
  {
   "cell_type": "code",
   "execution_count": 53,
   "metadata": {},
   "outputs": [
    {
     "name": "stdout",
     "output_type": "stream",
     "text": [
      "18.0\n",
      "nu_e = 7.92569 GHz\n"
     ]
    }
   ],
   "source": [
    "gamma_e = 45*0.4*(zeta_e*v_sh**2)/(0.4*(0.3*c)**2)\n",
    "print(gamma_e)\n",
    "nu_e = (gamma_e**2*e*B) / (2*PI*m_e*c)\n",
    "print(f'nu_e = {nu_e.to(u.GHz):3g}')\n",
    "# print(f'{4*PI*m_e*c}')"
   ]
  }
 ],
 "metadata": {
  "kernelspec": {
   "display_name": "base",
   "language": "python",
   "name": "python3"
  },
  "language_info": {
   "codemirror_mode": {
    "name": "ipython",
    "version": 3
   },
   "file_extension": ".py",
   "mimetype": "text/x-python",
   "name": "python",
   "nbconvert_exporter": "python",
   "pygments_lexer": "ipython3",
   "version": "3.12.4"
  }
 },
 "nbformat": 4,
 "nbformat_minor": 2
}
